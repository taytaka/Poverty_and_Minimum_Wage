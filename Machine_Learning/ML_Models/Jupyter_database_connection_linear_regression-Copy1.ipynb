{
 "cells": [
  {
   "cell_type": "code",
   "execution_count": 1,
   "id": "6ed211e5",
   "metadata": {},
   "outputs": [],
   "source": [
    "# Import database dependencies\n",
    "from sqlalchemy import inspect, create_engine\n",
    "from sqlalchemy.ext.automap import automap_base\n",
    "from sqlalchemy.orm import Session\n",
    "import config as creds\n",
    "\n",
    "# Import Pandas and matplotlib dependencies\n",
    "import pandas as pd\n",
    "import numpy as np\n",
    "import datetime as dt\n",
    "from pathlib import Path\n",
    "import matplotlib.pyplot as plt\n",
    "\n",
    "# Import scikit packages\n",
    "import sklearn.preprocessing as preprocessing\n",
    "from sklearn.linear_model import LinearRegression\n",
    "import sklearn.datasets as datasets\n",
    "# For splitting of data into train and test set\n",
    "from sklearn.model_selection import train_test_split\n",
    "# Metrics for Evaluation of model Accuracy and F1-score\n",
    "from sklearn.metrics  import f1_score,accuracy_score\n",
    "import sklearn.metrics as metrics\n"
   ]
  },
  {
   "cell_type": "code",
   "execution_count": 2,
   "id": "7c48887c",
   "metadata": {},
   "outputs": [],
   "source": [
    "#!pip install psycopg2"
   ]
  },
  {
   "cell_type": "code",
   "execution_count": 3,
   "id": "11257194",
   "metadata": {},
   "outputs": [],
   "source": [
    "#!pip install psycopg2-binary "
   ]
  },
  {
   "cell_type": "code",
   "execution_count": 4,
   "id": "2d8d3980",
   "metadata": {},
   "outputs": [],
   "source": [
    "# Create engine\n",
    "engine = create_engine(f'postgresql://{creds.PGUSER}:{creds.PGPASSWORD}@{creds.PGHOST}:5432/{creds.PGDATABASE}')"
   ]
  },
  {
   "cell_type": "code",
   "execution_count": 5,
   "id": "eb73215a",
   "metadata": {},
   "outputs": [],
   "source": [
    "# Create our session (link) from Python to the DB\n",
    "session = Session(bind=engine.connect())"
   ]
  },
  {
   "cell_type": "code",
   "execution_count": 6,
   "id": "b40d0222",
   "metadata": {},
   "outputs": [],
   "source": [
    "# reflect an existing database into a new model\n",
    "Base = automap_base()\n",
    "# reflect the tables\n",
    "Base.prepare(engine, reflect=True)"
   ]
  },
  {
   "cell_type": "code",
   "execution_count": 7,
   "id": "9de4cb08",
   "metadata": {},
   "outputs": [
    {
     "data": {
      "text/plain": [
       "['ave_wage_indexing',\n",
       " 'welfare_education',\n",
       " 'cpi_inflation_rate',\n",
       " 'crime_rate',\n",
       " 'economic_features_full',\n",
       " 'economic_features',\n",
       " 'divorce_rate',\n",
       " 'homeownership_rate',\n",
       " 'min_wage_effective',\n",
       " 'poverty_rates',\n",
       " 'unemployment_rate']"
      ]
     },
     "execution_count": 7,
     "metadata": {},
     "output_type": "execute_result"
    }
   ],
   "source": [
    "# List tables in database\n",
    "inspect(engine).get_table_names()"
   ]
  },
  {
   "cell_type": "code",
   "execution_count": 8,
   "id": "79326f8f",
   "metadata": {},
   "outputs": [
    {
     "data": {
      "text/plain": [
       "['year',\n",
       " 'state',\n",
       " 'population_million',\n",
       " 'education_million',\n",
       " 'welfare_million',\n",
       " 'crime_rate',\n",
       " 'unemployment_rate',\n",
       " 'divorce_rate_per_1000_people',\n",
       " 'homeownership_rate',\n",
       " 'minimum_wage_effective',\n",
       " 'cpi_average',\n",
       " 'avg_wage_index',\n",
       " 'poverty_rate']"
      ]
     },
     "execution_count": 8,
     "metadata": {},
     "output_type": "execute_result"
    }
   ],
   "source": [
    "# List columns in a specific table ('min_wage')\n",
    "[column['name'] for column in inspect(engine).get_columns('economic_features')]"
   ]
  },
  {
   "cell_type": "code",
   "execution_count": 9,
   "id": "2ed4a4c9",
   "metadata": {},
   "outputs": [
    {
     "data": {
      "text/plain": [
       "['year',\n",
       " 'state',\n",
       " 'population_million',\n",
       " 'education_million',\n",
       " 'welfare_million',\n",
       " 'crime_rate',\n",
       " 'unemployment_rate',\n",
       " 'divorce_rate_per_1000_people',\n",
       " 'homeownership_rate',\n",
       " 'minimum_wage_effective',\n",
       " 'cpi_average',\n",
       " 'avg_wage_index',\n",
       " 'poverty_rate']"
      ]
     },
     "execution_count": 9,
     "metadata": {},
     "output_type": "execute_result"
    }
   ],
   "source": [
    "# Testing\n",
    "# List columns in a specific table ('min_wage')\n",
    "[column['name'] for column in inspect(engine).get_columns('economic_features_full')]"
   ]
  },
  {
   "cell_type": "code",
   "execution_count": 10,
   "id": "8240c9bd",
   "metadata": {},
   "outputs": [
    {
     "data": {
      "text/plain": [
       "['Year', 'awi', 'annual_change']"
      ]
     },
     "execution_count": 10,
     "metadata": {},
     "output_type": "execute_result"
    }
   ],
   "source": [
    "# Testing\n",
    "# List columns in a specific table ('min_wage')\n",
    "[column['name'] for column in inspect(engine).get_columns('ave_wage_indexing')]"
   ]
  },
  {
   "cell_type": "code",
   "execution_count": 11,
   "id": "a582ae77",
   "metadata": {},
   "outputs": [
    {
     "ename": "SyntaxError",
     "evalue": "Missing parentheses in call to 'print'. Did you mean print(row)? (<ipython-input-11-6cb4574e2e58>, line 7)",
     "output_type": "error",
     "traceback": [
      "\u001b[0;36m  File \u001b[0;32m\"<ipython-input-11-6cb4574e2e58>\"\u001b[0;36m, line \u001b[0;32m7\u001b[0m\n\u001b[0;31m    print row\u001b[0m\n\u001b[0m        ^\u001b[0m\n\u001b[0;31mSyntaxError\u001b[0m\u001b[0;31m:\u001b[0m Missing parentheses in call to 'print'. Did you mean print(row)?\n"
     ]
    }
   ],
   "source": [
    "# Testing\n",
    "# Getting a list of tables\n",
    "\n",
    "from sqlalchemy.sql import and_\n",
    "s = select([ave_wage_indexing]).where(and_(year = '2000')\n",
    "for row in conn.execute(s)\n",
    "  print row"
   ]
  },
  {
   "cell_type": "code",
   "execution_count": null,
   "id": "e1270456",
   "metadata": {},
   "outputs": [],
   "source": [
    "# Defining function that takes in a table name and outputs a dataframe\n",
    "def db_reader(tablename):\n",
    "    table_df = pd.read_sql_table(f'{tablename}', engine)\n",
    "    return table_df"
   ]
  },
  {
   "cell_type": "code",
   "execution_count": null,
   "id": "71da5c55",
   "metadata": {},
   "outputs": [],
   "source": [
    "# Testing\n",
    "# Reading a database table into a dataframe\n",
    "unemployment_rate = db_reader('unemployment_rate')\n",
    "unemployment_rate.head()"
   ]
  },
  {
   "cell_type": "code",
   "execution_count": null,
   "id": "4d57964c",
   "metadata": {},
   "outputs": [],
   "source": [
    "# Testing\n",
    "# Reading a database table into a dataframe\n",
    "poverty_rates = db_reader('poverty_rates')\n",
    "poverty_rates.head()"
   ]
  },
  {
   "cell_type": "code",
   "execution_count": null,
   "id": "d2c6fe36",
   "metadata": {},
   "outputs": [],
   "source": [
    "# Reading a database table into a dataframe\n",
    "econ_features_full = db_reader('economic_features_full')\n",
    "econ_features_full.head()"
   ]
  },
  {
   "cell_type": "code",
   "execution_count": null,
   "id": "18d8ca51",
   "metadata": {},
   "outputs": [],
   "source": [
    "# plt.scatter(econ_features_full.avg_wage_index,econ_features_full.poverty_rate )\n",
    "# plt.xlabel('avg_wage_index')\n",
    "# plt.ylabel('poverty_rate')\n",
    "# plt.show()\n",
    "\n",
    "# xlabel = independent variable\n",
    "# ylabel = target variable that we want to predict "
   ]
  },
  {
   "cell_type": "code",
   "execution_count": null,
   "id": "04410a0c",
   "metadata": {},
   "outputs": [],
   "source": [
    "# Drop the non-beneficial columns and drop any rows with null or \"not a number\" (NaN) values\n",
    "model_df = econ_features_full.drop(columns=[\"state\"], axis=1).dropna()\n",
    "model_df.head()"
   ]
  },
  {
   "cell_type": "code",
   "execution_count": null,
   "id": "e4323c21",
   "metadata": {},
   "outputs": [],
   "source": [
    "# Define X and y variables\n",
    "X = model_df.drop([\"poverty_rate\"], axis=1)#.values.reshape(-1, 1)\n",
    "y = model_df[\"poverty_rate\"]"
   ]
  },
  {
   "cell_type": "code",
   "execution_count": null,
   "id": "9dd89aaf",
   "metadata": {},
   "outputs": [],
   "source": [
    "X.head()"
   ]
  },
  {
   "cell_type": "code",
   "execution_count": null,
   "id": "1ee0ebf9",
   "metadata": {},
   "outputs": [],
   "source": [
    "X.shape"
   ]
  },
  {
   "cell_type": "code",
   "execution_count": null,
   "id": "0740b725",
   "metadata": {},
   "outputs": [],
   "source": [
    "model_df.dtypes"
   ]
  },
  {
   "cell_type": "code",
   "execution_count": null,
   "id": "aa7b58e6",
   "metadata": {},
   "outputs": [],
   "source": [
    "# Standardize data\n",
    "import sklearn.preprocessing as preprocessing\n",
    "\n",
    "std = preprocessing.StandardScaler()\n",
    "# X is a matrix\n",
    "std.fit(X)\n",
    "X_std = std.transform(X)"
   ]
  },
  {
   "cell_type": "code",
   "execution_count": null,
   "id": "2ecd2697",
   "metadata": {},
   "outputs": [],
   "source": [
    "# Split the dataset into training and testing sets \n",
    "from sklearn.model_selection import train_test_split\n",
    "X_train, X_test, y_train, y_test = train_test_split(X,\n",
    "    y, random_state=1)"
   ]
  },
  {
   "cell_type": "code",
   "execution_count": null,
   "id": "da293407",
   "metadata": {},
   "outputs": [],
   "source": [
    "# Create a model with scikit-learn\n",
    "model = LinearRegression()"
   ]
  },
  {
   "cell_type": "code",
   "execution_count": null,
   "id": "27c7e1fe",
   "metadata": {},
   "outputs": [],
   "source": [
    "# Fit the data into the model\n",
    "# By convention, X is capitalized and y is lowercase\n",
    "model.fit(X, y)"
   ]
  },
  {
   "cell_type": "code",
   "execution_count": null,
   "id": "906f1670",
   "metadata": {},
   "outputs": [],
   "source": [
    "# We use the predict() on the model to predict the output\n",
    "# The model creates predicted y values based on X values\n",
    "y_pred = model.predict(X)\n",
    "print(y_pred.shape)\n",
    "print(X.shape)\n",
    "\n",
    "\n",
    "# for regression we use R2 score and MAE(mean absolute error)\n",
    "# from sklearn.metrics import mean_absolute_error\n",
    "# from sklearn.metrics import r2_score\n",
    "# print(mean_absolute_error(y_test,y_pred))\n",
    "# print(mean_absolute_error(y_test,y_pred))"
   ]
  },
  {
   "cell_type": "code",
   "execution_count": null,
   "id": "8ad9eef5",
   "metadata": {},
   "outputs": [],
   "source": [
    "# Plot the results. The best fit line is red.\n",
    "plt.scatter(X, y)\n",
    "plt.plot(X, y_pred, color='red')\n",
    "plt.show()"
   ]
  },
  {
   "cell_type": "code",
   "execution_count": null,
   "id": "8117bebc",
   "metadata": {},
   "outputs": [],
   "source": [
    "# The slope\n",
    "# The y-intercept\n",
    "print(model.coef_)\n",
    "print(model.intercept_)"
   ]
  },
  {
   "cell_type": "code",
   "execution_count": null,
   "id": "75bad502",
   "metadata": {},
   "outputs": [],
   "source": [
    "# Import linear regression from the SciPy stats module.\n",
    "from scipy.stats import linregress\n",
    "\n",
    "# Perform linear regression.\n",
    "(slope, intercept, r_value, p_value, std_err) = linregress(lats, temps)\n",
    "# Get the equation of the line.\n",
    "line_eq = \"y = \" + str(round(slope,2)) + \"x + \" + str(round(intercept,2))\n",
    "print(line_eq)\n",
    "print(f\"The p-value is: {p_value:.3f}\")\n",
    "# linregress function used to calculate the slope, y-intercept, correlation coefficient (r-value), p-value, and \n",
    "# standard deviation, and then we'll print out the equation for the line."
   ]
  },
  {
   "cell_type": "code",
   "execution_count": null,
   "id": "b2d4db59",
   "metadata": {},
   "outputs": [],
   "source": []
  }
 ],
 "metadata": {
  "kernelspec": {
   "display_name": "mlenv",
   "language": "python",
   "name": "mlenv"
  },
  "language_info": {
   "codemirror_mode": {
    "name": "ipython",
    "version": 3
   },
   "file_extension": ".py",
   "mimetype": "text/x-python",
   "name": "python",
   "nbconvert_exporter": "python",
   "pygments_lexer": "ipython3",
   "version": "3.7.10"
  }
 },
 "nbformat": 4,
 "nbformat_minor": 5
}
