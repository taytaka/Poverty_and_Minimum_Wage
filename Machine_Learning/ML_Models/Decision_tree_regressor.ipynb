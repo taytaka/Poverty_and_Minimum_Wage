{
 "cells": [
  {
   "cell_type": "markdown",
   "metadata": {},
   "source": [
    "# Decision Tree Regressor"
   ]
  },
  {
   "cell_type": "code",
   "execution_count": 1,
   "metadata": {},
   "outputs": [],
   "source": [
    "# Import dependencies\n",
    "import pandas as pd\n",
    "import numpy as np\n",
    "from sklearn.tree import DecisionTreeRegressor\n",
    "from sklearn.model_selection import train_test_split\n",
    "from sklearn.metrics import r2_score,mean_squared_error\n",
    "import pickle"
   ]
  },
  {
   "cell_type": "code",
   "execution_count": 2,
   "metadata": {},
   "outputs": [
    {
     "data": {
      "text/html": [
       "<div>\n",
       "<style scoped>\n",
       "    .dataframe tbody tr th:only-of-type {\n",
       "        vertical-align: middle;\n",
       "    }\n",
       "\n",
       "    .dataframe tbody tr th {\n",
       "        vertical-align: top;\n",
       "    }\n",
       "\n",
       "    .dataframe thead th {\n",
       "        text-align: right;\n",
       "    }\n",
       "</style>\n",
       "<table border=\"1\" class=\"dataframe\">\n",
       "  <thead>\n",
       "    <tr style=\"text-align: right;\">\n",
       "      <th></th>\n",
       "      <th>year</th>\n",
       "      <th>state</th>\n",
       "      <th>population_million</th>\n",
       "      <th>education_million</th>\n",
       "      <th>welfare_million</th>\n",
       "      <th>crime_rate</th>\n",
       "      <th>unemployment_rate</th>\n",
       "      <th>divorce_rate_per_1000_people</th>\n",
       "      <th>homeownership_rate</th>\n",
       "      <th>minimum_wage_effective</th>\n",
       "      <th>CPI_Average</th>\n",
       "      <th>inflation_rate</th>\n",
       "      <th>avg_wage_index</th>\n",
       "      <th>poverty_rate</th>\n",
       "    </tr>\n",
       "  </thead>\n",
       "  <tbody>\n",
       "    <tr>\n",
       "      <th>0</th>\n",
       "      <td>1984</td>\n",
       "      <td>National</td>\n",
       "      <td>235.164</td>\n",
       "      <td>191925.0</td>\n",
       "      <td>143711.9</td>\n",
       "      <td>539.2</td>\n",
       "      <td>7.637412</td>\n",
       "      <td>4.9778</td>\n",
       "      <td>64.5</td>\n",
       "      <td>3.360196</td>\n",
       "      <td>103.9</td>\n",
       "      <td>4.3</td>\n",
       "      <td>16135.07</td>\n",
       "      <td>16.04</td>\n",
       "    </tr>\n",
       "    <tr>\n",
       "      <th>1</th>\n",
       "      <td>1985</td>\n",
       "      <td>National</td>\n",
       "      <td>237.369</td>\n",
       "      <td>209227.0</td>\n",
       "      <td>165441.6</td>\n",
       "      <td>556.6</td>\n",
       "      <td>7.304109</td>\n",
       "      <td>4.9222</td>\n",
       "      <td>63.9</td>\n",
       "      <td>3.360196</td>\n",
       "      <td>107.6</td>\n",
       "      <td>3.5</td>\n",
       "      <td>16822.51</td>\n",
       "      <td>15.72</td>\n",
       "    </tr>\n",
       "    <tr>\n",
       "      <th>2</th>\n",
       "      <td>1986</td>\n",
       "      <td>National</td>\n",
       "      <td>239.595</td>\n",
       "      <td>227705.0</td>\n",
       "      <td>159050.4</td>\n",
       "      <td>620.1</td>\n",
       "      <td>7.096872</td>\n",
       "      <td>4.8667</td>\n",
       "      <td>63.8</td>\n",
       "      <td>3.360196</td>\n",
       "      <td>109.6</td>\n",
       "      <td>1.9</td>\n",
       "      <td>17321.82</td>\n",
       "      <td>15.20</td>\n",
       "    </tr>\n",
       "    <tr>\n",
       "      <th>3</th>\n",
       "      <td>1987</td>\n",
       "      <td>National</td>\n",
       "      <td>241.842</td>\n",
       "      <td>242694.0</td>\n",
       "      <td>167313.2</td>\n",
       "      <td>609.7</td>\n",
       "      <td>6.297189</td>\n",
       "      <td>4.8111</td>\n",
       "      <td>64.0</td>\n",
       "      <td>3.360196</td>\n",
       "      <td>113.6</td>\n",
       "      <td>3.7</td>\n",
       "      <td>18426.51</td>\n",
       "      <td>14.48</td>\n",
       "    </tr>\n",
       "    <tr>\n",
       "      <th>4</th>\n",
       "      <td>1988</td>\n",
       "      <td>National</td>\n",
       "      <td>244.110</td>\n",
       "      <td>260024.0</td>\n",
       "      <td>176861.6</td>\n",
       "      <td>637.2</td>\n",
       "      <td>5.589161</td>\n",
       "      <td>4.7556</td>\n",
       "      <td>63.8</td>\n",
       "      <td>3.409804</td>\n",
       "      <td>118.3</td>\n",
       "      <td>4.1</td>\n",
       "      <td>19334.04</td>\n",
       "      <td>14.81</td>\n",
       "    </tr>\n",
       "  </tbody>\n",
       "</table>\n",
       "</div>"
      ],
      "text/plain": [
       "   year     state  population_million  education_million  welfare_million  \\\n",
       "0  1984  National             235.164           191925.0         143711.9   \n",
       "1  1985  National             237.369           209227.0         165441.6   \n",
       "2  1986  National             239.595           227705.0         159050.4   \n",
       "3  1987  National             241.842           242694.0         167313.2   \n",
       "4  1988  National             244.110           260024.0         176861.6   \n",
       "\n",
       "   crime_rate  unemployment_rate  divorce_rate_per_1000_people  \\\n",
       "0       539.2           7.637412                        4.9778   \n",
       "1       556.6           7.304109                        4.9222   \n",
       "2       620.1           7.096872                        4.8667   \n",
       "3       609.7           6.297189                        4.8111   \n",
       "4       637.2           5.589161                        4.7556   \n",
       "\n",
       "   homeownership_rate  minimum_wage_effective  CPI_Average  inflation_rate  \\\n",
       "0                64.5                3.360196        103.9             4.3   \n",
       "1                63.9                3.360196        107.6             3.5   \n",
       "2                63.8                3.360196        109.6             1.9   \n",
       "3                64.0                3.360196        113.6             3.7   \n",
       "4                63.8                3.409804        118.3             4.1   \n",
       "\n",
       "   avg_wage_index  poverty_rate  \n",
       "0        16135.07         16.04  \n",
       "1        16822.51         15.72  \n",
       "2        17321.82         15.20  \n",
       "3        18426.51         14.48  \n",
       "4        19334.04         14.81  "
      ]
     },
     "execution_count": 2,
     "metadata": {},
     "output_type": "execute_result"
    }
   ],
   "source": [
    "# Load the data\n",
    "df = pd.read_csv('../Data_Preprocessing/Raw_Data/dataset_na_dropped.csv')\n",
    "df.head()"
   ]
  },
  {
   "cell_type": "code",
   "execution_count": 3,
   "metadata": {},
   "outputs": [],
   "source": [
    "# Drop state column\n",
    "df.drop(columns = ['state', 'year'], inplace = True)"
   ]
  },
  {
   "cell_type": "code",
   "execution_count": 4,
   "metadata": {},
   "outputs": [],
   "source": [
    "# Split data for training and testing\n",
    "X = df.drop(columns = 'poverty_rate')\n",
    "y = df['poverty_rate']\n",
    "\n",
    "X_train, X_test, y_train, y_test = train_test_split(X, y, random_state=1)"
   ]
  },
  {
   "cell_type": "code",
   "execution_count": 5,
   "metadata": {},
   "outputs": [
    {
     "data": {
      "text/plain": [
       "DecisionTreeRegressor(random_state=0)"
      ]
     },
     "execution_count": 5,
     "metadata": {},
     "output_type": "execute_result"
    }
   ],
   "source": [
    "# Create regressor and fit it with the data\n",
    "regressor = DecisionTreeRegressor(random_state = 0)\n",
    "regressor.fit(X_train, y_train)"
   ]
  },
  {
   "cell_type": "code",
   "execution_count": 6,
   "metadata": {},
   "outputs": [],
   "source": [
    "# Predicting the values for the X_test\n",
    "y_pred = regressor.predict(X_test)"
   ]
  },
  {
   "cell_type": "code",
   "execution_count": null,
   "metadata": {},
   "outputs": [],
   "source": [
    "# Check r squared value\n",
    "r_squared = r2_score(y_test, y_pred)\n",
    "print(f'R-Squared value: {r_squared}')"
   ]
  },
  {
   "cell_type": "code",
   "execution_count": null,
   "metadata": {},
   "outputs": [],
   "source": [
    "# Checking mean squared error and root mean squared error\n",
    "mse = mean_squared_error(y_test, y_pred)\n",
    "rmse = np.sqrt(mse)\n",
    "print(f'Mean Squared Error: {mse} \\n' f'Root Mean Squared Error: {rmse}')"
   ]
  },
  {
   "cell_type": "code",
   "execution_count": null,
   "metadata": {},
   "outputs": [],
   "source": [
    "# Creating a dataframe with actual vs predicted poverty rates\n",
    "pred_df = pd.DataFrame({'Actual':y_test, 'Predicted':y_pred})\n",
    "pred_df.head()"
   ]
  },
  {
   "cell_type": "code",
   "execution_count": null,
   "metadata": {},
   "outputs": [],
   "source": [
    "# List the features sorted in descending order by feature importance\n",
    "importances = regressor.feature_importances_\n",
    "ranked_importance = sorted(zip(importances, X.columns), reverse=True)\n",
    "for i in range(len(ranked_importance)):\n",
    "    print(f'{ranked_importance[i][1]}: ({ranked_importance[i][0]})')"
   ]
  },
  {
   "cell_type": "code",
   "execution_count": null,
   "metadata": {},
   "outputs": [],
   "source": [
    "# Defining function to pull data from a row and split it into features and target\n",
    "def feat_targ_vals(row):\n",
    "    feature_vals = []\n",
    "    target_vals = []\n",
    "    for i in range(len(df.columns)):\n",
    "        feature_vals.append(df.iloc[row][i])\n",
    "    target_vals = feature_vals.pop()\n",
    "    return feature_vals, target_vals"
   ]
  },
  {
   "cell_type": "code",
   "execution_count": null,
   "metadata": {},
   "outputs": [],
   "source": [
    "# Predicting a poverty value using an existing row (75). Row 75 was in test set\n",
    "prediction = regressor.predict([feat_targ_vals(75)[0]])\n",
    "actual = feat_targ_vals(75)[1]\n",
    "print(f'Predicted Value: {prediction[0]} \\nActual Value: {actual}')"
   ]
  },
  {
   "cell_type": "code",
   "execution_count": null,
   "metadata": {},
   "outputs": [],
   "source": [
    "# Checking features and values for custom input\n",
    "X.tail(15)"
   ]
  },
  {
   "cell_type": "code",
   "execution_count": null,
   "metadata": {},
   "outputs": [],
   "source": [
    "# Creating function to take custom inputs\n",
    "def predict_pov_rate():\n",
    "    custom_features = []\n",
    "    minimum_wage_effective = input('Enter min wage effective: ')\n",
    "    unemployment_rate = input('Enter unemployment_rate: ')\n",
    "    crime_rate = input('Enter crime_rate: ')\n",
    "    population_million = input('Enter population_million: ')\n",
    "    homeownership_rate = input('Enter homeownership_rate: ')\n",
    "    education_million = input('Enter education_million: ')\n",
    "    welfare_million = input('Enter welfare_million: ')\n",
    "    avg_wage_index = input('Enter avg_wage_index: ')\n",
    "    divorce_rate_per_1000_people = input('Enter divorce_rate_per_1000_people: ')\n",
    "    CPI_Average = input('Enter CPI_Average: ')\n",
    "    custom_features.extend([float(population_million), \n",
    "                     float(education_million),\n",
    "                     float(welfare_million),\n",
    "                     float(crime_rate),\n",
    "                     float(unemployment_rate),\n",
    "                     float(divorce_rate_per_1000_people), \n",
    "                     float(homeownership_rate), \n",
    "                     float(minimum_wage_effective), \n",
    "                     float(CPI_Average),\n",
    "                     float(avg_wage_index)])\n",
    "    return custom_features"
   ]
  },
  {
   "cell_type": "code",
   "execution_count": null,
   "metadata": {},
   "outputs": [],
   "source": [
    "# Predicting poverty rate based on custom feature values\n",
    "predicted_poverty_rate = regressor.predict([predict_pov_rate()])\n",
    "print(f'The predicted poverty rate is: {predicted_poverty_rate}')"
   ]
  },
  {
   "cell_type": "code",
   "execution_count": 9,
   "metadata": {},
   "outputs": [],
   "source": [
    "# Exporting saved model\n",
    "filename = 'Saved_DTR_Models/entireRegressor.sav'\n",
    "pickle.dump(regressor, open(filename, 'wb'))"
   ]
  },
  {
   "cell_type": "code",
   "execution_count": null,
   "metadata": {},
   "outputs": [],
   "source": []
  }
 ],
 "metadata": {
  "kernelspec": {
   "display_name": "mlenv",
   "language": "python",
   "name": "mlenv"
  },
  "language_info": {
   "codemirror_mode": {
    "name": "ipython",
    "version": 3
   },
   "file_extension": ".py",
   "mimetype": "text/x-python",
   "name": "python",
   "nbconvert_exporter": "python",
   "pygments_lexer": "ipython3",
   "version": "3.7.10"
  }
 },
 "nbformat": 4,
 "nbformat_minor": 4
}
